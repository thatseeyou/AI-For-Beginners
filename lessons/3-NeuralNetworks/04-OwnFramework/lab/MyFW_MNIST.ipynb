{
 "cells": [
  {
   "cell_type": "markdown",
   "metadata": {},
   "source": [
    "# MNIST Digit Classification with our own Framework\n",
    "\n",
    "Lab Assignment from [AI for Beginners Curriculum](https://github.com/microsoft/ai-for-beginners).\n",
    "\n",
    "### Reading the Dataset\n"
   ]
  },
  {
   "cell_type": "code",
   "execution_count": 1,
   "metadata": {},
   "outputs": [],
   "source": [
    "import gzip\n",
    "import pickle\n",
    "\n",
    "with gzip.open('../../../data/mnist.pkl.gz', 'rb') as mnist_pickle:\n",
    "    MNIST = pickle.load(mnist_pickle)"
   ]
  },
  {
   "cell_type": "code",
   "execution_count": 2,
   "metadata": {},
   "outputs": [],
   "source": [
    "labels = MNIST['Train']['Labels']\n",
    "data = MNIST['Train']['Features']"
   ]
  },
  {
   "cell_type": "markdown",
   "metadata": {},
   "source": [
    "Let's see what is the shape of data that we have:"
   ]
  },
  {
   "cell_type": "code",
   "execution_count": 3,
   "metadata": {},
   "outputs": [
    {
     "data": {
      "text/plain": [
       "(42000, 784)"
      ]
     },
     "execution_count": 3,
     "metadata": {},
     "output_type": "execute_result"
    }
   ],
   "source": [
    "data.shape"
   ]
  },
  {
   "cell_type": "markdown",
   "metadata": {},
   "source": [
    "### Splitting the Data\n",
    "\n",
    "We will use Scikit Learn to split the data between training and test dataset:"
   ]
  },
  {
   "cell_type": "code",
   "execution_count": 4,
   "metadata": {},
   "outputs": [
    {
     "name": "stdout",
     "output_type": "stream",
     "text": [
      "Train samples: 33600, test samples: 8400\n"
     ]
    }
   ],
   "source": [
    "from sklearn.model_selection import train_test_split\n",
    "\n",
    "features_train, features_test, labels_train, labels_test = train_test_split(data,labels,test_size=0.2)\n",
    "\n",
    "print(f\"Train samples: {len(features_train)}, test samples: {len(features_test)}\")"
   ]
  },
  {
   "cell_type": "markdown",
   "metadata": {},
   "source": [
    "### Instructions\n",
    "\n",
    "1. Take the framework code from the lesson and paste it into this notebook, or (even better) into a separate Python module\n",
    "1. Define and train one-layered perceptron, observing training and validation accuracy during training\n",
    "1. Try to understand if overfitting took place, and adjust layer parameters to improve accuracy\n",
    "1. Repeat previous steps for 2- and 3-layered perceptrons. Try to experiment with different activation functions between layers.\n",
    "1. Try to answer the following questions:\n",
    "    - Does the inter-layer activation function affect network performance?\n",
    "    - Do we need 2- or 3-layered network for this task?\n",
    "    - Did you experience any problems training the network? Especially as the number of layers increased.\n",
    "    - How do weights of the network behave during training? You may plot max abs value of weights vs. epoch to understand the relation."
   ]
  },
  {
   "cell_type": "code",
   "execution_count": 5,
   "metadata": {},
   "outputs": [],
   "source": [
    "import pylab\n",
    "import numpy as np"
   ]
  },
  {
   "cell_type": "markdown",
   "metadata": {},
   "source": [
    "features_train을  확인한다.  (from Perceptron.ipynb)"
   ]
  },
  {
   "cell_type": "code",
   "execution_count": 6,
   "metadata": {},
   "outputs": [
    {
     "name": "stdout",
     "output_type": "stream",
     "text": [
      "  0   0   0   0   0   0   0   0   0   0   0   0   0   0   0   0   0   0   0   0   0   0   0   0   0   0   0   0\n",
      "  0   0   0   0   0   0   0   0   0   0   0   0   0   0   0   0   0   0   0   0   0   0   0   0   0   0   0   0\n",
      "  0   0   0   0   0   0   0   0   0   0   0   0   0   0   0   0   0   0   0   0   0   0   0   0   0   0   0   0\n",
      "  0   0   0   0   0   0   0   0   0   0   0   0   0   0   0   0   0   0   0   0   0   0   0   0   0   0   0   0\n",
      "  0   0   0   0   0   0   0   0   0   0   0   0   0   0   0   0   0   0   0   0   0   0   0   0   0   0   0   0\n",
      "  0   0   0   0   0   0   0   0   0   0   0   0   0   0   0  78 130  34  34  34  34  34  34  34  34   5   0   0\n",
      "  0   0   0   0   0   0   0   0   0   0   0   0   0  20 160 244 254 253 253 253 253 253 253 253 253  91   0   0\n",
      "  0   0   0   0   0   0   0   0   0   0   0   0   0 128 242 253 254 253 253 253 253 253 253 253 253 119   0   0\n",
      "  0   0   0   0   0   0   0   0   0   0   0   8  81 250 253 253 242 231 240 242 231 231 231 231  68   2   0   0\n",
      "  0   0   0   0   0   0   0   0   0   0   0 113 253 253 253 229  87   0  35  42   0   0   0   0   0   0   0   0\n",
      "  0   0   0   0   0   0   0   0   0   0  59 218 253 253 226  94   0   0   0   0   0   0   0   0   0   0   0   0\n",
      "  0   0   0   0   0   0   0   0   0  10 204 253 253 234  95   0   0   0   0   0   0   0   0   0   0   0   0   0\n",
      "  0   0   0   0   0   0   0   0   0  62 219 253 253 253 146  25   0   0   0   0   0   0   0   0   0   0   0   0\n",
      "  0   0   0   0   0   0   0   0   0  64 227 253 253 253 253 225  68   0   0   0   0   0   0   0   0   0   0   0\n",
      "  0   0   0   0   0   0   0   0   0  10 131 181 253 253 253 253 173   0   0   0   0   0   0   0   0   0   0   0\n",
      "  0   0   0   0   0   0   0   0   0   0   0   0  54 136 255 254 237  34   0   0   0   0   0   0   0   0   0   0\n",
      "  0   0   0   0   0   0   0   0   0   0   0   0   0  25 225 253 236  82   0   0   0   0   0   0   0   0   0   0\n",
      "  0   0   0   0   0   0   0   0   0   0   0   0   0  25 225 253 236  34   0   0   0   0   0   0   0   0   0   0\n",
      "  0   0   0   0   0   0   0   6  66 124   8   0   0  74 225 253 173   0   0   0   0   0   0   0   0   0   0   0\n",
      "  0   0   0   0   0   0  46 189 253 239  31   0  56 181 253 253 149   0   0   0   0   0   0   0   0   0   0   0\n",
      "  0   0   0   0   0   0 192 253 253  58   0  31 192 253 253 166  24   0   0   0   0   0   0   0   0   0   0   0\n",
      "  0   0   0   0   0   0 197 253 253 128 146 240 253 251 242  40   0   0   0   0   0   0   0   0   0   0   0   0\n",
      "  0   0   0   0   0   0 187 253 253 253 253 253 251 172   0   0   0   0   0   0   0   0   0   0   0   0   0   0\n",
      "  0   0   0   0   0   0  38 197 253 253 253 226 168   0   0   0   0   0   0   0   0   0   0   0   0   0   0   0\n",
      "  0   0   0   0   0   0   0  23  76 143 143  45   0   0   0   0   0   0   0   0   0   0   0   0   0   0   0   0\n",
      "  0   0   0   0   0   0   0   0   0   0   0   0   0   0   0   0   0   0   0   0   0   0   0   0   0   0   0   0\n",
      "  0   0   0   0   0   0   0   0   0   0   0   0   0   0   0   0   0   0   0   0   0   0   0   0   0   0   0   0\n",
      "  0   0   0   0   0   0   0   0   0   0   0   0   0   0   0   0   0   0   0   0   0   0   0   0   0   0   0   0\n",
      "5\n"
     ]
    },
    {
     "data": {
      "image/png": "[encoded data removed]",
      "text/plain": [
       "<Figure size 1000x500 with 10 Axes>"
      ]
     },
     "metadata": {},
     "output_type": "display_data"
    }
   ],
   "source": [
    "# 첫 번째 data의 내용을 보기 좋게 출력한다.\n",
    "matrix = features_train[0].reshape(28, 28) \n",
    "for i in range(matrix.shape[0]):\n",
    "    print(' '.join(format(x, '3') for x in matrix[i, :28]))\n",
    "print(labels_train[0])\n",
    "\n",
    "fig = pylab.figure(figsize=(10,5))\n",
    "for i in range(10):\n",
    "    ax = fig.add_subplot(1,10,i+1)\n",
    "    pylab.imshow(features_train[i].reshape(28,28), cmap=\"gray\")\n",
    "pylab.show()"
   ]
  },
  {
   "cell_type": "markdown",
   "metadata": {},
   "source": [
    "OwnFramework.ipynb에서 코드를 가져온다."
   ]
  },
  {
   "cell_type": "code",
   "execution_count": 7,
   "metadata": {},
   "outputs": [],
   "source": [
    "class Linear:\n",
    "    def __init__(self,nin,nout):\n",
    "        self.W = np.random.normal(0, 1.0/np.sqrt(nin), (nout, nin))\n",
    "        self.b = np.zeros((1,nout))\n",
    "        self.dW = np.zeros_like(self.W)\n",
    "        self.db = np.zeros_like(self.b)\n",
    "        \n",
    "    def forward(self, x):\n",
    "        self.x=x\n",
    "        return np.dot(x, self.W.T) + self.b\n",
    "    \n",
    "    def backward(self, dz):\n",
    "        dx = np.dot(dz, self.W)\n",
    "        dW = np.dot(dz.T, self.x)\n",
    "        db = dz.sum(axis=0)\n",
    "        self.dW = dW\n",
    "        self.db = db\n",
    "        return dx\n",
    "    \n",
    "    def update(self,lr):\n",
    "        self.W -= lr*self.dW\n",
    "        self.b -= lr*self.db\n",
    "\n",
    "class Softmax:\n",
    "    def forward(self,z):\n",
    "        self.z = z\n",
    "        zmax = z.max(axis=1,keepdims=True)\n",
    "        expz = np.exp(z-zmax)\n",
    "        Z = expz.sum(axis=1,keepdims=True)\n",
    "        return expz / Z\n",
    "    def backward(self,dp):\n",
    "        p = self.forward(self.z)\n",
    "        pdp = p * dp\n",
    "        return pdp - p * pdp.sum(axis=1, keepdims=True)\n",
    "    \n",
    "class CrossEntropyLoss:\n",
    "    def forward(self,p,y):\n",
    "        self.p = p\n",
    "        self.y = y\n",
    "        p_of_y = p[np.arange(len(y)), y]\n",
    "        log_prob = np.log(p_of_y + 1e-9) # 작은 값 추가로 로그(0) 방지\n",
    "        return -log_prob.mean()\n",
    "    def backward(self,loss):\n",
    "        dlog_softmax = np.zeros_like(self.p)\n",
    "        dlog_softmax[np.arange(len(self.y)), self.y] -= 1.0/len(self.y)\n",
    "        return dlog_softmax / (self.p + 1e-9)\n",
    "\n",
    "class Tanh:\n",
    "    def forward(self,x):\n",
    "        y = np.tanh(x)\n",
    "        self.y = y\n",
    "        return y\n",
    "    def backward(self,dy):\n",
    "        return (1.0-self.y**2)*dy\n",
    "\n",
    "class Net:\n",
    "    def __init__(self):\n",
    "        self.layers = []\n",
    "    \n",
    "    def add(self,l):\n",
    "        self.layers.append(l)\n",
    "        \n",
    "    def forward(self,x):\n",
    "        for l in self.layers:\n",
    "            x = l.forward(x)\n",
    "        return x\n",
    "    \n",
    "    def backward(self,z):\n",
    "        for l in self.layers[::-1]:\n",
    "            z = l.backward(z)\n",
    "        return z\n",
    "    \n",
    "    def update(self,lr):\n",
    "        for l in self.layers:\n",
    "            if 'update' in l.__dir__():\n",
    "                l.update(lr)\n",
    "\n",
    "def get_loss_acc(x,y,loss=CrossEntropyLoss()):\n",
    "    p = net.forward(x)\n",
    "    l = loss.forward(p,y)\n",
    "    pred = np.argmax(p,axis=1)\n",
    "    acc = (pred==y).mean()\n",
    "    return l,acc\n",
    "\n",
    "def train_epoch(net, train_x, train_labels, loss=CrossEntropyLoss(), batch_size=32, lr=0.1):\n",
    "    for i in range(0,len(train_x),batch_size):\n",
    "        xb = train_x[i:i+batch_size]\n",
    "        yb = train_labels[i:i+batch_size]\n",
    "\n",
    "        p = net.forward(xb)\n",
    "        l = loss.forward(p,yb)\n",
    "        dp = loss.backward(l)\n",
    "        dx = net.backward(dp)\n",
    "        net.update(lr)"
   ]
  },
  {
   "cell_type": "code",
   "execution_count": 8,
   "metadata": {},
   "outputs": [
    {
     "name": "stdout",
     "output_type": "stream",
     "text": [
      "Initial loss=18.92050871030782, accuracy=0.06922619047619048: \n",
      "Final loss=18.679310390906103, accuracy=0.09863095238095237: \n",
      "Test loss=18.692879195919044, accuracy=0.09797619047619048: \n"
     ]
    }
   ],
   "source": [
    "net = Net()\n",
    "net.add(Linear(784,10))\n",
    "net.add(Softmax())\n",
    "loss = CrossEntropyLoss()\n",
    "\n",
    "print(\"Initial loss={}, accuracy={}: \".format(*get_loss_acc(features_train, labels_train)))\n",
    "train_epoch(net, features_train, labels_train, batch_size=84, lr=0.1)      \n",
    "print(\"Final loss={}, accuracy={}: \".format(*get_loss_acc(features_train, labels_train)))\n",
    "print(\"Test loss={}, accuracy={}: \".format(*get_loss_acc(features_test, labels_test)))"
   ]
  },
  {
   "cell_type": "markdown",
   "metadata": {},
   "source": [
    "네트워크 디자인의 기준을 아래와 같이 설명할 수 있습니다.\n",
    "\n",
    "1. 네트워크 깊이와 너비의 설정 기준\n",
    "\n",
    "네트워크 너비 (Layer Width): 레이어의 너비는 해당 레이어에서 활성화되는 뉴런의 수를 의미합니다. 너비가 넓을수록 모델은 더 많은 특성을 학습할 수 있지만, 계산 비용과 과적합의 위험도 증가합니다.\n",
    "네트워크 깊이 (Layer Depth): 깊은 네트워크는 복잡한 패턴을 학습할 수 있는 능력이 향상되지만, 깊어질수록 학습이 어려워지고, 기울기 소실 문제(Gradient Vanishing)나 기울기 폭발(Gradient Exploding)이 발생할 수 있습니다.\n",
    "\n",
    "2. 중간 레이어의 역할\n",
    "\n",
    "특성 변환: 중간 레이어는 입력된 원시 데이터를 고차원 공간으로 매핑하여, 원래의 선형적으로 구분되지 않는 문제를 더 잘 구분할 수 있는 형태로 변환합니다. 예를 들어, XOR 문제는 선형적으로 구분할 수 없지만, 특정 변환을 거치면 선형 분류기로도 해결할 수 있습니다.\n",
    "학습 가능한 특성의 확장: 초기 입력의 784개 특성만으로는 충분한 패턴을 학습하기 어려울 수 있습니다. 따라서, 그 이상의 뉴런으로 확장하는 것은 모델이 더 많은 내부 표현을 학습하고 복잡한 함수를 모델링할 수 있게 합니다.\n",
    "\n",
    "3. 합리적인 설정의 기준\n",
    "\n",
    "과적합 대비: 중간 레이어의 너비를 너무 크게 설정하면 학습 데이터에 대해 과적합될 수 있습니다. 적절한 크기의 레이어를 선택하는 것은 실험을 통해 결정되며, 교차 검증과 같은 기법을 사용하여 최적화할 수 있습니다.\n",
    "성능 및 계산 효율: 너무 많은 뉴런은 계산 비용을 증가시키고 학습 시간을 늘립니다. 하드웨어의 제한과 요구되는 응답 시간을 고려하여 적절한 너비를 선택하는 것이 중요합니다.\n",
    "문제의 복잡성: 문제의 복잡성에 따라 레이어의 너비를 조정할 수 있습니다. 예를 들어, 간단한 분류 문제는 적은 수의 뉴런으로도 충분할 수 있으나, 이미지 인식과 같은 복잡한 문제는 더 많은 뉴런을 요구합니다."
   ]
  },
  {
   "cell_type": "code",
   "execution_count": 430,
   "metadata": {},
   "outputs": [
    {
     "name": "stdout",
     "output_type": "stream",
     "text": [
      "Initial loss=2.686084648578906, accuracy=0.11770833333333333: \n",
      "Final loss=0.2619463161602424, accuracy=0.9241964285714286: \n",
      "Test loss=0.2841287442660595, accuracy=0.9147619047619048: \n"
     ]
    }
   ],
   "source": [
    "middle, batch_size, lr = 112, 420, 0.05 # 0.85\n",
    "middle, batch_size, lr = 196, 420, 0.05 # 0.87\n",
    "middle, batch_size, lr = 392, 420, 0.05 # 0.88\n",
    "middle, batch_size, lr = 784, 420, 0.05 # 0.90\n",
    "middle, batch_size, lr = 1568, 420, 0.05 # 0.91\n",
    "middle, batch_size, lr = 2352, 420, 0.05 # 0.91\n",
    "middle, batch_size, lr = 1568, 210, 0.05 # 0.91\n",
    "middle, batch_size, lr = 1568, 840, 0.05 # 0.90\n",
    "middle, batch_size, lr = 1568, 105, 0.05 # 0.87\n",
    "middle, batch_size, lr = 1568, 210, 0.01 # 0.89\n",
    "middle, batch_size, lr = 1568, 210, 0.1 # 0.75\n",
    "middle, batch_size, lr = 1568, 210, 0.03 # 0.91\n",
    "middle, batch_size, lr = 2000, 210, 0.035 # 0.91\n",
    "middle, batch_size, lr = 2352, 210, 0.035 # 0.92\n",
    "\n",
    "net = Net()\n",
    "net.add(Linear(784,middle))\n",
    "net.add(Tanh())\n",
    "net.add(Linear(middle,10))\n",
    "net.add(Softmax())\n",
    "loss = CrossEntropyLoss()\n",
    "\n",
    "print(\"Initial loss={}, accuracy={}: \".format(*get_loss_acc(features_train, labels_train)))\n",
    "train_epoch(net, features_train, labels_train, batch_size=batch_size, lr=lr)      \n",
    "print(\"Final loss={}, accuracy={}: \".format(*get_loss_acc(features_train, labels_train)))\n",
    "print(\"Test loss={}, accuracy={}: \".format(*get_loss_acc(features_test, labels_test)))"
   ]
  },
  {
   "cell_type": "code",
   "execution_count": 9,
   "metadata": {},
   "outputs": [
    {
     "name": "stdout",
     "output_type": "stream",
     "text": [
      "Initial loss=2.385318821406313, accuracy=0.12220238095238095: \n",
      "Final loss=0.22025424161485002, accuracy=0.9394642857142858: \n",
      "Test loss=0.2555423024391184, accuracy=0.9267857142857143: \n"
     ]
    }
   ],
   "source": [
    "middle1, middle2, batch_size, lr = 784, 1568, 420, 0.03 # 0.89\n",
    "middle1, middle2, batch_size, lr = 2352, 1568, 210, 0.03 # 0.91\n",
    "middle1, middle2, batch_size, lr = 1568, 1568, 210, 0.035 # 0.91\n",
    "middle1, middle2, batch_size, lr = 2352, 4704, 420, 0.035 # 0.91\n",
    "middle1, middle2, batch_size, lr = 1568, 2352, 210, 0.035 # 0.92\n",
    "middle1, middle2, batch_size, lr = 2352, 4704, 210, 0.035 # 0.92\n",
    "\n",
    "net = Net()\n",
    "net.add(Linear(784,middle1))\n",
    "net.add(Tanh())\n",
    "net.add(Linear(middle1,middle2))\n",
    "net.add(Tanh())\n",
    "net.add(Linear(middle2,10))\n",
    "net.add(Softmax())\n",
    "loss = CrossEntropyLoss()\n",
    "\n",
    "print(\"Initial loss={}, accuracy={}: \".format(*get_loss_acc(features_train, labels_train)))\n",
    "train_epoch(net, features_train, labels_train, batch_size=batch_size, lr=lr)      \n",
    "print(\"Final loss={}, accuracy={}: \".format(*get_loss_acc(features_train, labels_train)))\n",
    "print(\"Test loss={}, accuracy={}: \".format(*get_loss_acc(features_test, labels_test)))"
   ]
  }
 ],
 "metadata": {
  "kernelspec": {
   "display_name": "Python 3.7.4 64-bit (conda)",
   "metadata": {
    "interpreter": {
     "hash": "86193a1ab0ba47eac1c69c1756090baa3b420b3eea7d4aafab8b85f8b312f0c5"
    }
   },
   "name": "python3"
  },
  "language_info": {
   "codemirror_mode": {
    "name": "ipython",
    "version": 3
   },
   "file_extension": ".py",
   "mimetype": "text/x-python",
   "name": "python",
   "nbconvert_exporter": "python",
   "pygments_lexer": "ipython3",
   "version": "3.8.12"
  },
  "orig_nbformat": 2
 },
 "nbformat": 4,
 "nbformat_minor": 2
}
